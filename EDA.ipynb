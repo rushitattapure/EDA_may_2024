{
 "cells": [
  {
   "cell_type": "code",
   "execution_count": 1,
   "id": "a727bbee-b30c-4bfe-9242-8194682c8a12",
   "metadata": {},
   "outputs": [
    {
     "ename": "SyntaxError",
     "evalue": "unmatched ')' (1883541322.py, line 2)",
     "output_type": "error",
     "traceback": [
      "\u001b[1;36m  Cell \u001b[1;32mIn[1], line 2\u001b[1;36m\u001b[0m\n\u001b[1;33m    1) pandas  : dataframe or data application\u001b[0m\n\u001b[1;37m     ^\u001b[0m\n\u001b[1;31mSyntaxError\u001b[0m\u001b[1;31m:\u001b[0m unmatched ')'\n"
     ]
    }
   ],
   "source": [
    "==========================================EDA=======================================\n",
    "1) pandas  : dataframe or data application\n",
    "\n",
    "\n",
    "\n",
    "\n",
    "\n",
    "\n",
    "\n",
    "\n",
    "\n",
    "\n",
    "\n",
    "\n",
    "\n",
    "\n",
    "\n",
    "============== ==========================MACHINE)ing========n==============ra===e=======\n",
    "7) Sciklit learn(sklearn)  : ML models\n",
    "8) stats                    : statistical models\n",
    "\n",
    "\n",
    "==================================Data retrival from sql scrapping=====================\n",
    "9) sqlite           : connect with database\n",
    "10) Veautiful soap          : scrap the data from website\n",
    "11) websocket            : scrap\n",
    "\n",
    "\n",
    "===============================Deep larning/computer vision =====================================\n",
    "12) tensorflow        : google\n",
    "\n",
    "+-14) Opencv            : Image operations\n",
    "15) pillow(pil)       : Image operstions\n",
    "16) pytorch           : facebook\n",
    "17) Prret\n",
    "\n",
    "\n",
    "\n",
    "\n",
    "\n",
    "================================Natural languag proces=============\n",
    "18) NlTK    : Natural language process\n",
    "19) scipy\n",
    "20) word2vec ( how words will convert into vector) :\n",
    "21) Glove\n",
    "22) wordcloud\n",
    "\n",
    "===============================hugging face===============\n",
    "23) Transformers      : BERT\n",
    "\n",
    "\n",
    "================================ GenAI models=================\n",
    "24) OpenAi+Microsoft      : GPT Models\n",
    "25) Google                : Gemini\n",
    "26) Amazon                 : Q\n",
    "27) Meta Facebook          :MetaAI\n",
    "28) Apple\n",
    "\n",
    "LLAMA\n",
    "GEMMA\n",
    "Dalle-e\n",
    "T5\n",
    "\n",
    "All ARE HAVING DIFFERNT DIFFERNT PACKEGES\n",
    "\n",
    "======================LANGCHAIN================\n",
    "29) LANGCHAIN FRAMEWORK\n",
    "======================deployments=====================\n",
    "30) flask\n",
    "31) stremlit\n",
    "32) Django\n",
    "\n",
    "\n",
    "=======================Mlops========================\n",
    "33) Mlfolw\n",
    "34)kubeflow\n",
    "35) Azure ai swervices :\n",
    "\n",
    "================step-1 =============\n"
   ]
  },
  {
   "cell_type": "code",
   "execution_count": null,
   "id": "41dc0ed8-7797-4a99-ab71-157f2a7a1b7e",
   "metadata": {},
   "outputs": [],
   "source": [
    "import pandas as pd"
   ]
  },
  {
   "cell_type": "code",
   "execution_count": 2,
   "id": "324687c3-5562-4e66-ada9-0d512068e25a",
   "metadata": {},
   "outputs": [
    {
     "ename": "NameError",
     "evalue": "name 'pd' is not defined",
     "output_type": "error",
     "traceback": [
      "\u001b[1;31m---------------------------------------------------------------------------\u001b[0m",
      "\u001b[1;31mNameError\u001b[0m                                 Traceback (most recent call last)",
      "Cell \u001b[1;32mIn[2], line 1\u001b[0m\n\u001b[1;32m----> 1\u001b[0m d1\u001b[38;5;241m=\u001b[39mpd\u001b[38;5;241m.\u001b[39mdataframe()\n\u001b[0;32m      2\u001b[0m d1\n",
      "\u001b[1;31mNameError\u001b[0m: name 'pd' is not defined"
     ]
    }
   ],
   "source": [
    "d1=pd.dataframe()\n",
    "d1"
   ]
  },
  {
   "cell_type": "code",
   "execution_count": 3,
   "id": "d39db531-1e0f-409e-ab6d-f933bc4abaf8",
   "metadata": {},
   "outputs": [
    {
     "ename": "NameError",
     "evalue": "name 'd1' is not defined",
     "output_type": "error",
     "traceback": [
      "\u001b[1;31m---------------------------------------------------------------------------\u001b[0m",
      "\u001b[1;31mNameError\u001b[0m                                 Traceback (most recent call last)",
      "Cell \u001b[1;32mIn[3], line 1\u001b[0m\n\u001b[1;32m----> 1\u001b[0m \u001b[38;5;28mtype\u001b[39m(d1)\n",
      "\u001b[1;31mNameError\u001b[0m: name 'd1' is not defined"
     ]
    }
   ],
   "source": [
    "type(d1)"
   ]
  },
  {
   "cell_type": "code",
   "execution_count": null,
   "id": "77acd341-efac-41fa-9922-96cf15f53f02",
   "metadata": {},
   "outputs": [],
   "source": [
    "step -2\n",
    "\n",
    "provide the data"
   ]
  },
  {
   "cell_type": "code",
   "execution_count": 4,
   "id": "b59c564b-a78d-4569-9f07-f7d84b966594",
   "metadata": {},
   "outputs": [
    {
     "ename": "NameError",
     "evalue": "name 'pd' is not defined",
     "output_type": "error",
     "traceback": [
      "\u001b[1;31m---------------------------------------------------------------------------\u001b[0m",
      "\u001b[1;31mNameError\u001b[0m                                 Traceback (most recent call last)",
      "Cell \u001b[1;32mIn[4], line 2\u001b[0m\n\u001b[0;32m      1\u001b[0m names\u001b[38;5;241m=\u001b[39m [\u001b[38;5;124m'\u001b[39m\u001b[38;5;124mtarun\u001b[39m\u001b[38;5;124m'\u001b[39m, \u001b[38;5;124m'\u001b[39m\u001b[38;5;124msurendar\u001b[39m\u001b[38;5;124m'\u001b[39m,\u001b[38;5;124m'\u001b[39m\u001b[38;5;124mmohit\u001b[39m\u001b[38;5;124m'\u001b[39m]\n\u001b[1;32m----> 2\u001b[0m pd\u001b[38;5;241m.\u001b[39mDataFramw(names)\n",
      "\u001b[1;31mNameError\u001b[0m: name 'pd' is not defined"
     ]
    }
   ],
   "source": [
    "names= ['tarun', 'surendar','mohit']\n",
    "pd.DataFramw(names)"
   ]
  },
  {
   "cell_type": "markdown",
   "id": "d931104b-89f7-47c1-b31b-9ce1ff6faef2",
   "metadata": {},
   "source": [
    "names=['tarun','surendar','mohit']\n",
    "age=[20,21,22]\n",
    "city=['hyd','cvil','blr']\n",
    "\n",
    "data=zip(names,age,city)\n",
    "\n",
    "cols=['names','age','city']\n",
    "\n",
    "pd.dataFrame(data,colums=cols)"
   ]
  },
  {
   "cell_type": "markdown",
   "id": "a70d310d-0c4f-46b6-8a2e-89cb64d4a3c2",
   "metadata": {},
   "source": [
    "\n",
    "\n"
   ]
  },
  {
   "cell_type": "code",
   "execution_count": null,
   "id": "669ff132-626d-4869-be55-3a102ba84fb2",
   "metadata": {},
   "outputs": [],
   "source": []
  }
 ],
 "metadata": {
  "kernelspec": {
   "display_name": "Python 3 (ipykernel)",
   "language": "python",
   "name": "python3"
  },
  "language_info": {
   "codemirror_mode": {
    "name": "ipython",
    "version": 3
   },
   "file_extension": ".py",
   "mimetype": "text/x-python",
   "name": "python",
   "nbconvert_exporter": "python",
   "pygments_lexer": "ipython3",
   "version": "3.11.7"
  }
 },
 "nbformat": 4,
 "nbformat_minor": 5
}
