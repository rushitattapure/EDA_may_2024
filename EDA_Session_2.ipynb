{
 "cells": [
  {
   "cell_type": "code",
   "execution_count": null,
   "id": "e2117b27-e66b-45bd-8a95-964eb38a72ce",
   "metadata": {},
   "outputs": [],
   "source": [
    "#create dataframe\n",
    "\n",
    "import pandas as pd\n",
    "names=['tarun','surendar','rushi']\n",
    "age=[20,21,22]\n"
   ]
  },
  {
   "cell_type": "markdown",
   "id": "dd4ed420-5a48-4e2d-984b-835ad2962346",
   "metadata": {},
   "source": [
    "- If you want add new cloumn\n",
    "\n",
    "- First check how many rows are there\n",
    "\n",
    "- For example in above dataframe we have 3 rows\n",
    "\n",
    "- your new column also should have 3 rows\n",
    "\n",
    "- suppose i want crete a new column: **salary**\n",
    "\n",
    "- make a list with 3 values\n",
    "\n",
    "- salary = [100000,200000,300000]\n",
    "\n",
    "**syntax**: dataframe[column]=list values\n",
    "\n",
    "- salary = [100000,200000,300000]\n",
    "\n",
    "- df ['salary']=salary"
   ]
  },
  {
   "cell_type": "code",
   "execution_count": 1,
   "id": "6b49f726-2a6b-416f-a384-6a878abf2073",
   "metadata": {},
   "outputs": [
    {
     "ename": "SyntaxError",
     "evalue": "cannot assign to literal (1831428336.py, line 1)",
     "output_type": "error",
     "traceback": [
      "\u001b[1;36m  Cell \u001b[1;32mIn[1], line 1\u001b[1;36m\u001b[0m\n\u001b[1;33m    df=['salary']=[]\u001b[0m\n\u001b[1;37m        ^\u001b[0m\n\u001b[1;31mSyntaxError\u001b[0m\u001b[1;31m:\u001b[0m cannot assign to literal\n"
     ]
    }
   ],
   "source": [
    "df=['salary']=[]"
   ]
  },
  {
   "cell_type": "code",
   "execution_count": 2,
   "id": "8845df74-c421-46ac-985e-3d704d195f69",
   "metadata": {},
   "outputs": [
    {
     "ename": "NameError",
     "evalue": "name 'df' is not defined",
     "output_type": "error",
     "traceback": [
      "\u001b[1;31m---------------------------------------------------------------------------\u001b[0m",
      "\u001b[1;31mNameError\u001b[0m                                 Traceback (most recent call last)",
      "Cell \u001b[1;32mIn[2], line 2\u001b[0m\n\u001b[0;32m      1\u001b[0m salary\u001b[38;5;241m=\u001b[39m[\u001b[38;5;241m10000\u001b[39m,\u001b[38;5;241m20000\u001b[39m,\u001b[38;5;241m30000\u001b[39m]\n\u001b[1;32m----> 2\u001b[0m df[\u001b[38;5;124m'\u001b[39m\u001b[38;5;124msalary\u001b[39m\u001b[38;5;124m'\u001b[39m]\u001b[38;5;241m=\u001b[39msalary\n\u001b[0;32m      3\u001b[0m df\n",
      "\u001b[1;31mNameError\u001b[0m: name 'df' is not defined"
     ]
    }
   ],
   "source": [
    "salary=[10000,20000,30000]\n",
    "df['salary']=salary\n",
    "df"
   ]
  },
  {
   "cell_type": "markdown",
   "id": "31943597-75ee-4625-87e1-8af9c9a20bf9",
   "metadata": {},
   "source": [
    "**use case-1**\n",
    "\n",
    "- create empty data frame first\n",
    "\n",
    "- Create 3 list using list comprehension\n",
    "\n",
    "- list1 = square of 1 of 10\n",
    "\n",
    "- list2 = square of 1 of 10\n",
    "\n",
    "- list3 = square of 1 of 10\n",
    "\n",
    "- Finally make a dataframe\n"
   ]
  },
  {
   "cell_type": "code",
   "execution_count": 4,
   "id": "9b79ec4d-f293-4b26-8f62-475c17f15eee",
   "metadata": {},
   "outputs": [
    {
     "ename": "AttributeError",
     "evalue": "module 'pandas' has no attribute 'Data'",
     "output_type": "error",
     "traceback": [
      "\u001b[1;31m---------------------------------------------------------------------------\u001b[0m",
      "\u001b[1;31mAttributeError\u001b[0m                            Traceback (most recent call last)",
      "Cell \u001b[1;32mIn[4], line 2\u001b[0m\n\u001b[0;32m      1\u001b[0m \u001b[38;5;28;01mimport\u001b[39;00m \u001b[38;5;21;01mpandas\u001b[39;00m \u001b[38;5;28;01mas\u001b[39;00m \u001b[38;5;21;01mpd\u001b[39;00m\n\u001b[1;32m----> 2\u001b[0m df1\u001b[38;5;241m=\u001b[39mpd\u001b[38;5;241m.\u001b[39mData\u001b[38;5;241m.\u001b[39mframe()\n\u001b[0;32m      3\u001b[0m df1\n",
      "\u001b[1;31mAttributeError\u001b[0m: module 'pandas' has no attribute 'Data'"
     ]
    }
   ],
   "source": [
    "import pandas as pd\n",
    "df1=pd.Data.frame()\n",
    "df1"
   ]
  },
  {
   "cell_type": "code",
   "execution_count": 7,
   "id": "606b0186-7257-4c81-b511-686ceb5689e8",
   "metadata": {},
   "outputs": [
    {
     "ename": "SyntaxError",
     "evalue": "closing parenthesis ']' does not match opening parenthesis '(' (2872005049.py, line 2)",
     "output_type": "error",
     "traceback": [
      "\u001b[1;36m  Cell \u001b[1;32mIn[7], line 2\u001b[1;36m\u001b[0m\n\u001b[1;33m    l2=[i**2 for i in rang(1,100]\u001b[0m\n\u001b[1;37m                                ^\u001b[0m\n\u001b[1;31mSyntaxError\u001b[0m\u001b[1;31m:\u001b[0m closing parenthesis ']' does not match opening parenthesis '('\n"
     ]
    }
   ],
   "source": [
    "l1=[ i for i in range(1,10)]\n",
    "l2=[i**2 for i in rang(1,100]\n",
    "l3=[i**3 for i in range(1,100]\n",
    "df1['x']=l1\n",
    "df1['y']=l2\n",
    "\n",
    "df1['z']=l3\n",
    "df1"
   ]
  },
  {
   "cell_type": "code",
   "execution_count": null,
   "id": "b5935b61-9324-4216-8298-b2fc69238913",
   "metadata": {},
   "outputs": [],
   "source": [
    "**Step-688 \n",
    "\n",
    "update the already exited column"
   ]
  },
  {
   "cell_type": "code",
   "execution_count": null,
   "id": "8914e019-f2d4-4ff6-8806-572384165f51",
   "metadata": {},
   "outputs": [],
   "source": [
    "- Create  a new cloumn\n",
    "\n",
    "- update exi"
   ]
  }
 ],
 "metadata": {
  "kernelspec": {
   "display_name": "Python 3 (ipykernel)",
   "language": "python",
   "name": "python3"
  },
  "language_info": {
   "codemirror_mode": {
    "name": "ipython",
    "version": 3
   },
   "file_extension": ".py",
   "mimetype": "text/x-python",
   "name": "python",
   "nbconvert_exporter": "python",
   "pygments_lexer": "ipython3",
   "version": "3.11.7"
  }
 },
 "nbformat": 4,
 "nbformat_minor": 5
}
